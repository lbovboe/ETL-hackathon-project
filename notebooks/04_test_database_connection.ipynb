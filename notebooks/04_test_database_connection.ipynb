{
 "cells": [
  {
   "cell_type": "code",
   "execution_count": 1,
   "id": "e7885576",
   "metadata": {
    "vscode": {
     "languageId": "plaintext"
    }
   },
   "outputs": [
    {
     "name": "stdout",
     "output_type": "stream",
     "text": [
      "✅ Connection string loaded from .env\n",
      "\n",
      "🎉 Supabase connection successful!\n",
      "📊 PostgreSQL version: PostgreSQL 17.6 on aarch64-unknown-linux-gnu, compiled by gcc (GCC) 13.2.0, 64-bit\n",
      "📁 Connected to database: postgres\n",
      "🔐 Can create tables: True\n"
     ]
    }
   ],
   "source": [
    "from sqlalchemy import create_engine, text\n",
    "from dotenv import load_dotenv\n",
    "import os\n",
    "\n",
    "# Load environment variables from parent directory\n",
    "load_dotenv('../.env')\n",
    "\n",
    "# Get connection string\n",
    "connection_string = os.getenv('SUPABASE_CONNECTION_STRING')\n",
    "\n",
    "if connection_string:\n",
    "    print(\"✅ Connection string loaded from .env\")\n",
    "    \n",
    "    # Create engine\n",
    "    engine = create_engine(connection_string)\n",
    "    \n",
    "    # Test connection\n",
    "    try:\n",
    "        with engine.connect() as conn:\n",
    "            # Test query\n",
    "            result = conn.execute(text(\"SELECT version();\"))\n",
    "            version = result.fetchone()[0]\n",
    "            \n",
    "            print(\"\\n🎉 Supabase connection successful!\")\n",
    "            print(f\"📊 PostgreSQL version: {version}\")\n",
    "            \n",
    "            # Check current database\n",
    "            result = conn.execute(text(\"SELECT current_database();\"))\n",
    "            db_name = result.fetchone()[0]\n",
    "            print(f\"📁 Connected to database: {db_name}\")\n",
    "            \n",
    "            # Check permissions\n",
    "            result = conn.execute(text(\"SELECT has_database_privilege(current_user, current_database(), 'CREATE');\"))\n",
    "            can_create = result.fetchone()[0]\n",
    "            print(f\"🔐 Can create tables: {can_create}\")\n",
    "            \n",
    "    except Exception as e:\n",
    "        print(f\"\\n❌ Connection failed!\")\n",
    "        print(f\"Error: {e}\")\n",
    "        print(\"\\n💡 Check:\")\n",
    "        print(\"   1. Is your password correct in .env?\")\n",
    "        print(\"   2. Is Supabase project running?\")\n",
    "else:\n",
    "    print(\"❌ Connection string not found in .env file!\")"
   ]
  },
  {
   "cell_type": "code",
   "execution_count": null,
   "id": "51584d53-20df-4219-90df-61563afec5f4",
   "metadata": {},
   "outputs": [],
   "source": []
  }
 ],
 "metadata": {
  "kernelspec": {
   "display_name": "Python 3 (ipykernel)",
   "language": "python",
   "name": "python3"
  },
  "language_info": {
   "codemirror_mode": {
    "name": "ipython",
    "version": 3
   },
   "file_extension": ".py",
   "mimetype": "text/x-python",
   "name": "python",
   "nbconvert_exporter": "python",
   "pygments_lexer": "ipython3",
   "version": "3.11.7"
  }
 },
 "nbformat": 4,
 "nbformat_minor": 5
}
